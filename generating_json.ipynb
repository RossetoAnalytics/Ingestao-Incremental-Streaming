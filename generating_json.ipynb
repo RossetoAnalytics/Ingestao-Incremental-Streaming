{
 "cells": [
  {
   "cell_type": "code",
   "execution_count": 0,
   "metadata": {
    "application/vnd.databricks.v1+cell": {
     "cellMetadata": {
      "byteLimit": 2048000,
      "rowLimit": 10000
     },
     "inputWidgets": {},
     "nuid": "ce749aff-ee17-475b-b04f-9947acc689cd",
     "showTitle": false,
     "title": ""
    }
   },
   "outputs": [
    {
     "output_type": "stream",
     "name": "stdout",
     "output_type": "stream",
     "text": [
      "+----------+--------+-----+--------------------+\n|   product|quantity|price|           sale_date|\n+----------+--------+-----+--------------------+\n|Product_98|       3|89.97|2024-09-30 20:51:...|\n|Product_83|       5|88.01|2024-09-16 20:51:...|\n|Product_80|      10|91.64|2024-10-05 20:51:...|\n| Product_6|       9| 15.3|2024-10-01 20:51:...|\n|Product_31|       1|90.57|2024-10-09 20:51:...|\n+----------+--------+-----+--------------------+\nonly showing top 5 rows\n\nDados de vendas salvos em: dbfs:/mnt/daily_data/sales_data3.json\n"
     ]
    }
   ],
   "source": [
    "from pyspark.sql import SparkSession\n",
    "from pyspark.sql import functions as F\n",
    "import random\n",
    "from datetime import datetime, timedelta\n",
    "\n",
    "# Criar uma sessão do Spark\n",
    "spark = SparkSession.builder \\\n",
    "    .appName(\"Generate Sales Data\") \\\n",
    "    .getOrCreate()\n",
    "\n",
    "# Função para gerar uma lista de produtos\n",
    "def generate_products(num_products):\n",
    "    return [f\"Product_{i}\" for i in range(1, num_products + 1)]\n",
    "\n",
    "# Função para gerar dados de vendas\n",
    "def generate_sales_data(num_records):\n",
    "    products = generate_products(100)  # 100 produtos\n",
    "    sales_data = []\n",
    "    \n",
    "    for _ in range(num_records):\n",
    "        product = random.choice(products)\n",
    "        quantity = random.randint(1, 10)  # Quantidade vendida\n",
    "        price = round(random.uniform(10.0, 100.0), 2)  # Preço entre 10 e 100\n",
    "        date = datetime.now() - timedelta(days=random.randint(0, 30))  # Data de venda nos últimos 30 dias\n",
    "        \n",
    "        sales_data.append((product, quantity, price, date))\n",
    "\n",
    "    return sales_data\n",
    "\n",
    "# Gerar 2000 registros de vendas\n",
    "sales_data = generate_sales_data(2000)\n",
    "\n",
    "# Criar DataFrame a partir dos dados gerados\n",
    "columns = [\"product\", \"quantity\", \"price\", \"sale_date\"]\n",
    "sales_df = spark.createDataFrame(sales_data, schema=columns)\n",
    "\n",
    "# Mostrar as primeiras linhas do DataFrame\n",
    "sales_df.show(5)\n",
    "\n",
    "# Definir o caminho para salvar no DBFS\n",
    "output_path = \"dbfs:/mnt/daily_data/sales_data3.json\"\n",
    "\n",
    "# Salvar o DataFrame como um arquivo JSON\n",
    "sales_df.write.mode(\"overwrite\").json(output_path)\n",
    "\n",
    "print(f\"Dados de vendas salvos em: {output_path}\")\n"
   ]
  }
 ],
 "metadata": {
  "application/vnd.databricks.v1+notebook": {
   "dashboards": [],
   "environmentMetadata": null,
   "language": "python",
   "notebookMetadata": {
    "pythonIndentUnit": 4
   },
   "notebookName": "generating_json",
   "widgets": {}
  }
 },
 "nbformat": 4,
 "nbformat_minor": 0
}
